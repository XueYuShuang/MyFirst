{
 "cells": [
  {
   "cell_type": "code",
   "execution_count": 5,
   "metadata": {},
   "outputs": [
    {
     "name": "stdout",
     "output_type": "stream",
     "text": [
      "(299, 299, 3)\n",
      "(1, 299, 299, 3)\n",
      "(1, 299, 299, 3)\n"
     ]
    }
   ],
   "source": [
    "import keras\n",
    "from keras.applications.inception_resnet_v2 import InceptionResNetV2\n",
    "from keras.preprocessing import image\n",
    "from keras.applications.inception_resnet_v2 import preprocess_input\n",
    "import numpy as np\n",
    "\n",
    "model = InceptionResNetV2(weights='imagenet', include_top=False)\n",
    "\n",
    "img_path = 'dog.jpg'\n",
    "img = image.load_img(img_path, target_size=(299, 299))\n",
    "x = image.img_to_array(img)\n",
    "print(x.shape)\n",
    "x = np.expand_dims(x, axis=0)\n",
    "print(x.shape)\n",
    "x = preprocess_input(x)\n",
    "print(x.shape)\n",
    "\n",
    "features = model.predict(x)"
   ]
  },
  {
   "cell_type": "code",
   "execution_count": 2,
   "metadata": {},
   "outputs": [
    {
     "name": "stdout",
     "output_type": "stream",
     "text": [
      "2.0.8\n"
     ]
    }
   ],
   "source": [
    "print(keras.__version__)"
   ]
  },
  {
   "cell_type": "code",
   "execution_count": 3,
   "metadata": {},
   "outputs": [
    {
     "name": "stdout",
     "output_type": "stream",
     "text": [
      "[[[[ 0.          0.          0.06276286 ...,  0.          0.          1.5872122 ]\n",
      "   [ 0.          0.07580514  0.         ...,  0.          0.          0.        ]\n",
      "   [ 0.          0.44307053  0.         ...,  0.          0.          0.        ]\n",
      "   ..., \n",
      "   [ 0.          0.          0.         ...,  0.          0.          0.        ]\n",
      "   [ 0.          0.30581576  0.         ...,  0.          0.          0.        ]\n",
      "   [ 0.          0.          0.00433691 ...,  0.          0.          0.        ]]\n",
      "\n",
      "  [[ 0.          0.09523959  0.         ...,  0.          0.          1.26969004]\n",
      "   [ 0.          0.46555519  0.         ...,  0.          0.          0.38313574]\n",
      "   [ 0.          1.04527235  0.         ...,  0.          0.          0.39053255]\n",
      "   ..., \n",
      "   [ 0.30908939  0.09143734  0.26775861 ...,  0.          0.          0.        ]\n",
      "   [ 0.          0.4123376   0.         ...,  0.          0.          0.03267945]\n",
      "   [ 0.33985317  0.12890901  0.         ...,  0.          0.          0.        ]]\n",
      "\n",
      "  [[ 0.          0.10073808  0.         ...,  0.          0.          0.        ]\n",
      "   [ 0.          0.13961282  0.         ...,  0.          0.          0.        ]\n",
      "   [ 0.          0.66436809  0.0860979  ...,  0.          0.          0.        ]\n",
      "   ..., \n",
      "   [ 0.          1.2203294   0.84415698 ...,  0.          0.          0.        ]\n",
      "   [ 0.          0.85795784  0.47668955 ...,  0.          0.          0.        ]\n",
      "   [ 0.06827591  0.54811734  0.06418878 ...,  0.          0.          0.        ]]\n",
      "\n",
      "  ..., \n",
      "  [[ 0.06454515  0.          0.         ...,  0.          0.          0.0030281 ]\n",
      "   [ 0.          0.          0.         ...,  0.          0.          0.        ]\n",
      "   [ 0.          0.95069563  0.26151511 ...,  0.          0.          0.        ]\n",
      "   ..., \n",
      "   [ 0.          0.          0.81911802 ...,  0.          0.          0.        ]\n",
      "   [ 0.          0.26258469  0.33005825 ...,  0.48932931  0.          0.        ]\n",
      "   [ 0.          0.28770441  0.         ...,  0.          0.          0.        ]]\n",
      "\n",
      "  [[ 0.          0.          0.         ...,  0.          0.          0.        ]\n",
      "   [ 0.          0.          0.         ...,  0.          0.          0.        ]\n",
      "   [ 0.          0.03545438  0.06547177 ...,  0.          0.          0.        ]\n",
      "   ..., \n",
      "   [ 0.          0.          0.         ...,  0.          0.          0.        ]\n",
      "   [ 0.          0.          0.         ...,  0.          0.          0.        ]\n",
      "   [ 0.          0.          0.         ...,  0.          0.          0.        ]]\n",
      "\n",
      "  [[ 0.01210789  0.          0.         ...,  0.          0.          0.        ]\n",
      "   [ 0.          0.02496871  0.         ...,  0.          0.          0.        ]\n",
      "   [ 0.          0.13968523  0.         ...,  0.          0.          0.        ]\n",
      "   ..., \n",
      "   [ 0.          0.          0.         ...,  0.          0.          0.        ]\n",
      "   [ 0.          0.          0.         ...,  0.          0.          0.        ]\n",
      "   [ 0.          0.          0.         ...,  0.          0.          0.        ]]]]\n"
     ]
    }
   ],
   "source": [
    "print(features)"
   ]
  },
  {
   "cell_type": "code",
   "execution_count": null,
   "metadata": {
    "collapsed": true
   },
   "outputs": [],
   "source": []
  }
 ],
 "metadata": {
  "kernelspec": {
   "display_name": "Python 3",
   "language": "python",
   "name": "python3"
  },
  "language_info": {
   "codemirror_mode": {
    "name": "ipython",
    "version": 3
   },
   "file_extension": ".py",
   "mimetype": "text/x-python",
   "name": "python",
   "nbconvert_exporter": "python",
   "pygments_lexer": "ipython3",
   "version": "3.6.1"
  }
 },
 "nbformat": 4,
 "nbformat_minor": 2
}
